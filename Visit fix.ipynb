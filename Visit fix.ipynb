{
 "cells": [
  {
   "cell_type": "code",
   "execution_count": 1,
   "id": "0fb3e3a6",
   "metadata": {},
   "outputs": [
    {
     "name": "stdout",
     "output_type": "stream",
     "text": [
      "  * Reading config from potlako.ini\n",
      "Loading Data Encryption (init)...\n",
      " * loading keys from /Users/mcturner/source/potlko-project-files/potlako/crypto_fields\n",
      " * loading rsa.restricted.public ... Done.\n",
      " * loading rsa.restricted.private ... Done.\n",
      " * loading rsa.local.public ... Done.\n",
      " * loading rsa.local.private ... Done.\n",
      " * loading aes.local ... Done.\n",
      " * loading aes.restricted ... Done.\n",
      " * loading salt.local ... Done.\n",
      " * loading salt.restricted ... Done.\n",
      " Done loading Data Encryption (init)...\n"
     ]
    },
    {
     "name": "stderr",
     "output_type": "stream",
     "text": [
      "/Users/mcturner/.venvs/potlako/lib/python3.9/site-packages/django_q/conf.py:139: UserWarning: Retry and timeout are misconfigured. Set retry larger than timeout, \n",
      "        failure to do so will cause the tasks to be retriggered before completion. \n",
      "        See https://django-q.readthedocs.io/en/latest/configure.html#retry for details.\n",
      "  warn(\n",
      "/Users/mcturner/.venvs/potlako/lib/python3.9/site-packages/simple_history/models.py:123: UserWarning: HistoricalRecords added to abstract model (HistoryManagerMixin) without inherit=True\n",
      "  warnings.warn(msg, UserWarning)\n",
      "/Users/mcturner/.venvs/potlako/lib/python3.9/site-packages/simple_history/models.py:123: UserWarning: HistoricalRecords added to abstract model (ScheduleModelMixin) without inherit=True\n",
      "  warnings.warn(msg, UserWarning)\n",
      "/Users/mcturner/.venvs/potlako/lib/python3.9/site-packages/simple_history/models.py:123: UserWarning: HistoricalRecords added to abstract model (VisitModelMixin) without inherit=True\n",
      "  warnings.warn(msg, UserWarning)\n",
      "/Users/mcturner/.venvs/potlako/lib/python3.9/site-packages/simple_history/models.py:123: UserWarning: HistoricalRecords added to abstract model (CrfModelMixin) without inherit=True\n",
      "  warnings.warn(msg, UserWarning)\n"
     ]
    },
    {
     "name": "stdout",
     "output_type": "stream",
     "text": [
      "Loading Data Encryption ...\n",
      " * found encryption keys in /Users/mcturner/source/potlko-project-files/potlako/crypto_fields.\n",
      " * using model django_crypto_fields.crypt.\n",
      " Done loading Data Encryption.\n",
      "Loading EDC Call Manager ...\n",
      " * call models are in app edc_call_manager.\n",
      " * checking for site model_callers ...\n",
      " * registered model caller '<class 'potlako_follow.model_callers.model_callers.WorkListFollowUpModelCaller'>'\n",
      " * registered model caller '<class 'potlako_follow.model_callers.model_callers.NavigationWorkListFollowUpModelCaller'>'\n",
      " Done loading EDC Call Manager.\n",
      "Loading Edc Consent ...\n",
      " * checking for site consents ...\n",
      " * registered consents 'consents' from 'potlako_subject'\n",
      " * potlako_subject.subjectconsent 1 covering 2020-03-01 UTC to 2025-12-01 UTC\n",
      " Done loading Edc Consent.\n",
      " * checking for site prn_forms ...\n",
      "Loading Edc Device ...                        \n",
      "  * device id is '30'.\n",
      "  * device role is 'Client'.\n",
      " Done loading Edc Device.\n",
      "Loading Edc Lab ...\n",
      " * checking for labs ...\n",
      " Done loading Edc Lab.\n",
      "Loading Edc Reference ...\n",
      " * checking for reference_model_configs ...\n",
      " * checking for labs ...\n",
      " * registered reference model configs from application 'potlako_reference'\n",
      " Done loading Edc Reference.\n",
      "Loading edc_metadata_rules ...\n",
      " * checking for metadata_rules ...\n",
      "   - imported metadata rules from 'potlako_metadata_rules.metadata_rules'\n",
      " Done loading edc_metadata_rules.\n",
      "Loading Edc Navbar ...\n",
      " * checking for site navbars ...\n",
      " * searching edc_consent           \r         * registered navbars 'navbars' from 'edc_consent'\n",
      " * registered navbars 'navbars' from 'edc_device'\n",
      " * registered navbars 'navbars' from 'edc_reference'\n",
      " * registered navbars 'navbars' from 'edc_navbar'\n",
      " * registered navbars 'navbars' from 'edc_label'\n",
      " * registered navbars 'navbars' from 'edc_visit_schedule'\n",
      " * registered navbars 'navbars' from 'edc_calendar'\n",
      " * registered navbars 'navbars' from 'potlako_dashboard'\n",
      " * registered navbars 'navbars' from 'potlako_follow'\n",
      " * registered navbars 'navbars' from 'potlako_reports'\n",
      " * registered navbars 'navbars' from 'edc_data_manager'\n",
      " * registered navbars 'navbars' from 'edc_base'\n",
      " * registered navbars 'navbars' from 'edc_protocol'\n",
      " * registered navbars 'navbars' from 'potlako'\n",
      " * registered navbars 'navbars' from 'edc_sync'\n",
      " * registered navbars 'navbars' from 'edc_sms'\n",
      " Done loading Edc Navbar.\n",
      "Loading Edc Label ...\n",
      " Label template folder is /Users/mcturner/source/potlko-project-files/potlako/label_templates.\n",
      "Label template folder does not exist!\n",
      "Not loading label templates\n",
      " Done loading Edc Label.\n",
      "Loading Edc Registration ...\n",
      "  * using edc_registration.registeredsubject\n",
      " Done loading Edc Registration.\n",
      "Loading Visit Schedules ...\n",
      " * checking site for module 'visit_schedules' ...\n",
      " * registered visit schedule from 'potlako_visit_schedule'\n",
      " Done loading Visit Schedules.\n",
      "Loading Edc Timepoint ...\n",
      " * 'edc_appointment.appointment' is a timepoint model.\n",
      " * 'edc_appointment.historicalappointment' is a timepoint model.\n",
      " Done loading Edc Timepoint.\n",
      "Loading Edc Appointments ...\n",
      " * edc_appointment.appointment.\n",
      " Done loading Edc Appointments.\n",
      "Loading Edc Metadata ...\n",
      " * using default metadata models from 'edc_metadata'\n",
      " Done loading Edc Metadata.\n",
      "Loading Edc Base ...\n",
      " * default TIME_ZONE Africa/Gaborone.\n",
      " Done loading Edc Base.\n",
      "Loading Edc Protocol ...\n",
      " * BHP132: Potlako Plus.\n",
      " * Study opening date: 2020-03-01 UTC\n",
      " * Expected study closing date: 2025-12-01 UTC\n",
      " Done loading Edc Protocol.\n",
      "Loading Edc Visit Tracking ...\n",
      " * potlako_subject.subjectvisit uses model attr 'subject_visit'\n",
      " Done loading Edc Visit Tracking.\n",
      "Loading Data Synchronization ...\n",
      " * checking for models to register ...\n",
      " * registered models from 'edc_call_manager'.\n",
      " * registered models from 'edc_lab'.\n",
      " * registered models from 'edc_locator'.\n",
      " * registered models from 'edc_reference'.\n",
      " * registered models from 'edc_registration'.\n",
      " * registered models from 'edc_visit_schedule'.\n",
      " * registered models from 'potlako_follow'.\n",
      " * registered models from 'potlako_prn'.\n",
      " * registered models from 'potlako_subject'.\n",
      " * registered models from 'edc_appointment'.\n",
      " * registered models from 'edc_metadata'.\n",
      " * registered models from 'edc_identifier'.\n",
      " Done loading Data Synchronization.\n",
      "Loading File support for data synchronization ...\n",
      "Done loading File support for data synchronization.\n",
      "Loading Edc Facility ...\n",
      " * 7-Day Clinic MO(100 slots), TU(100 slots), WE(100 slots), TH(100 slots), FR(100 slots), SA(100 slots), SU(100 slots).\n",
      " * 5-Day Clinic MO(100 slots), TU(100 slots), WE(100 slots), TH(100 slots), FR(100 slots).\n",
      " Done loading Edc Facility.\n",
      "Loading Edc Identifier ...\n",
      " * identifier prefix: 132\n",
      " * check-digit modulus: 7\n",
      " Done loading Edc Identifier\n"
     ]
    }
   ],
   "source": [
    "import os, sys\n",
    "import django\n",
    "\n",
    "sys.path.append('../..')  # add path to project root dir\n",
    "os.environ[\"DJANGO_SETTINGS_MODULE\"] = \"potlako.settings\"\n",
    "import pytz, datetime\n",
    "from django.apps import apps as django_apps\n",
    "\n",
    "os.environ[\"DJANGO_ALLOW_ASYNC_UNSAFE\"] = \"true\"\n",
    "django.setup()\n"
   ]
  },
  {
   "cell_type": "code",
   "execution_count": 33,
   "id": "f6a8db87",
   "metadata": {},
   "outputs": [
    {
     "name": "stdout",
     "output_type": "stream",
     "text": [
      ":rocket:done\n"
     ]
    }
   ],
   "source": [
    "from edc_appointment.models import Appointment\n",
    "from edc_metadata.models import CrfMetadata\n",
    "from potlako_subject.models import SubjectVisit\n",
    "from django.apps import apps as django_apps\n",
    "\n",
    "visit2 = SubjectVisit.objects.get(subject_identifier='132-40200010-4', visit_code=2000,\n",
    "                                 visit_code_sequence=2)\n",
    "metadata = CrfMetadata.objects.filter(\n",
    "    visit_code=visit2.visit_code,\n",
    "    subject_identifier=visit2.subject_identifier,\n",
    "    entry_status='KEYED',\n",
    "    visit_code_sequence=2\n",
    ")\n",
    "\n",
    "app = Appointment.objects.get(\n",
    "    subject_identifier=visit2.appointment.subject_identifier,\n",
    "    visit_code_sequence=1,\n",
    "     visit_code=visit2.visit_code\n",
    ")\n",
    "\n",
    "\n",
    "app.timepoint_closed_datetime=visit2.appointment.timepoint_closed_datetime\n",
    "app.timepoint=visit2.appointment.timepoint\n",
    "app.timepoint_datetime=visit2.appointment.timepoint_datetime\n",
    "app.appt_close_datetime=visit2.appointment.appt_close_datetime\n",
    "app.facility_name=visit2.appointment.facility_name\n",
    "app.appt_datetime=visit2.appointment.appt_datetime\n",
    "app.appt_type=visit2.appointment.appt_type\n",
    "app.appt_status=visit2.appointment.appt_status\n",
    "app.appt_reason=visit2.appointment.appt_reason\n",
    "app.comment=visit2.appointment.comment\n",
    "app.is_confirmed=visit2.appointment.is_confirmed\n",
    "\n",
    "app.save()\n",
    "\n",
    "\n",
    "visit2.visit_code_sequence=1\n",
    "visit2.appointment=app\n",
    "\n",
    "visit2.save()\n",
    "\n",
    "for crf in metadata:\n",
    "    crf.visit_code_sequence=visit2.visit_code_sequence,\n",
    "    model_cls=django_apps.get_model(crf.model)\n",
    "    crf_obj=model_cls.objects.get(subject_visit=visit2)\n",
    "    crf_obj.subject_visit=visit2\n",
    "    crf_obj.save()\n",
    "\n",
    "app2 = Appointment.objects.get(\n",
    "    subject_identifier=visit2.appointment.subject_identifier,\n",
    "    visit_code_sequence=2,\n",
    "     visit_code=visit2.visit_code\n",
    ")\n",
    "app2.delete()\n",
    "print(':rocket:done')"
   ]
  },
  {
   "cell_type": "code",
   "execution_count": 24,
   "id": "5e610c96",
   "metadata": {},
   "outputs": [
    {
     "data": {
      "text/plain": "{'_state': <django.db.models.base.ModelState at 0x1386f5a00>,\n 'created': datetime.datetime(2022, 9, 20, 8, 40, 2, 536000, tzinfo=<UTC>),\n 'modified': datetime.datetime(2022, 9, 20, 8, 40, 2, 645000, tzinfo=<UTC>),\n 'user_created': 'potlako',\n 'user_modified': 'potlako',\n 'hostname_created': 'potlako_plus_20',\n 'hostname_modified': 'potlako_plus_20',\n 'revision': '0.2.19:master:7ca5afcce4a34d778e8385d1404b1817a3ff08f0',\n 'device_created': '20',\n 'device_modified': '20',\n 'id': UUID('eeaa54ce-de3e-490b-9467-9fbd9f17aae8'),\n 'site_id': 40,\n 'subject_identifier': '132-40200010-4',\n 'visit_schedule_name': 'potlako_visit_schedule',\n 'schedule_name': 'potlako_plus_schedule',\n 'visit_code': '2000',\n 'visit_code_sequence': 1,\n 'timepoint_status': 'open',\n 'timepoint_opened_datetime': datetime.datetime(2022, 9, 27, 8, 40, 2, 514000, tzinfo=<UTC>),\n 'timepoint_closed_datetime': None,\n 'timepoint': Decimal('2.0'),\n 'timepoint_datetime': datetime.datetime(2022, 9, 27, 8, 40, 2, 514000, tzinfo=<UTC>),\n 'appt_close_datetime': None,\n 'facility_name': '5-day clinic',\n 'appt_datetime': datetime.datetime(2022, 9, 27, 8, 40, 2, 514000, tzinfo=<UTC>),\n 'appt_type': 'clinic',\n 'appt_status': 'new',\n 'appt_reason': '',\n 'comment': '',\n 'is_confirmed': False}"
     },
     "execution_count": 24,
     "metadata": {},
     "output_type": "execute_result"
    }
   ],
   "source": [
    "visit2.appo"
   ]
  },
  {
   "cell_type": "code",
   "execution_count": 31,
   "outputs": [
    {
     "data": {
      "text/plain": "<QuerySet [<SubjectVisit: 132-40200010-4 2000.0>, <SubjectVisit: 132-40200010-4 2000.2>]>"
     },
     "execution_count": 31,
     "metadata": {},
     "output_type": "execute_result"
    }
   ],
   "source": [
    "SubjectVisit.objects.filter(subject_identifier='132-40200010-4', visit_code=2000)"
   ],
   "metadata": {
    "collapsed": false
   }
  },
  {
   "cell_type": "code",
   "execution_count": null,
   "outputs": [],
   "source": [],
   "metadata": {
    "collapsed": false
   }
  }
 ],
 "metadata": {
  "kernelspec": {
   "display_name": "Django Shell-Plus",
   "language": "python",
   "name": "django_extensions"
  },
  "language_info": {
   "codemirror_mode": {
    "name": "ipython",
    "version": 3
   },
   "file_extension": ".py",
   "mimetype": "text/x-python",
   "name": "python",
   "nbconvert_exporter": "python",
   "pygments_lexer": "ipython3",
   "version": "3.9.10"
  }
 },
 "nbformat": 4,
 "nbformat_minor": 5
}
